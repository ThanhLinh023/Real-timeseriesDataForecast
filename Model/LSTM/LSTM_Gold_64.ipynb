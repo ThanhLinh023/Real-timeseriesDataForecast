{
  "cells": [
    {
      "cell_type": "code",
      "execution_count": 1,
      "id": "7562c5e1-9810-42b8-9aa8-be5c867f577e",
      "metadata": {
        "id": "7562c5e1-9810-42b8-9aa8-be5c867f577e"
      },
      "outputs": [],
      "source": [
        "# 1. Import thư viện cần thiết\n",
        "import numpy as np\n",
        "import pandas as pd\n",
        "import math\n",
        "import matplotlib.pyplot as plt\n",
        "from sklearn.preprocessing import MinMaxScaler\n",
        "from keras.models import Sequential\n",
        "from keras.layers import Dense, LSTM\n",
        "from sklearn.metrics import mean_absolute_percentage_error\n",
        "from sklearn.metrics import mean_squared_error\n",
        "plt.rcParams['figure.figsize'] = [20, 8]"
      ]
    },
    {
      "cell_type": "code",
      "source": [
        "from google.colab import files\n",
        "df = files.upload()\n",
        "df = pd.read_csv('Gold.csv')\n",
        "df = df.reset_index()['Close']\n",
        "df.head()"
      ],
      "metadata": {
        "colab": {
          "base_uri": "https://localhost:8080/",
          "height": 175
        },
        "id": "aXx76ZhPTOOq",
        "outputId": "15d6889d-891d-4cc5-f791-a4ecf522a0b0"
      },
      "id": "aXx76ZhPTOOq",
      "execution_count": 3,
      "outputs": [
        {
          "output_type": "display_data",
          "data": {
            "text/plain": [
              "<IPython.core.display.HTML object>"
            ],
            "text/html": [
              "\n",
              "     <input type=\"file\" id=\"files-828d6f63-e209-41b6-87a8-ceb11a15e56c\" name=\"files[]\" multiple disabled\n",
              "        style=\"border:none\" />\n",
              "     <output id=\"result-828d6f63-e209-41b6-87a8-ceb11a15e56c\">\n",
              "      Upload widget is only available when the cell has been executed in the\n",
              "      current browser session. Please rerun this cell to enable.\n",
              "      </output>\n",
              "      <script>// Copyright 2017 Google LLC\n",
              "//\n",
              "// Licensed under the Apache License, Version 2.0 (the \"License\");\n",
              "// you may not use this file except in compliance with the License.\n",
              "// You may obtain a copy of the License at\n",
              "//\n",
              "//      http://www.apache.org/licenses/LICENSE-2.0\n",
              "//\n",
              "// Unless required by applicable law or agreed to in writing, software\n",
              "// distributed under the License is distributed on an \"AS IS\" BASIS,\n",
              "// WITHOUT WARRANTIES OR CONDITIONS OF ANY KIND, either express or implied.\n",
              "// See the License for the specific language governing permissions and\n",
              "// limitations under the License.\n",
              "\n",
              "/**\n",
              " * @fileoverview Helpers for google.colab Python module.\n",
              " */\n",
              "(function(scope) {\n",
              "function span(text, styleAttributes = {}) {\n",
              "  const element = document.createElement('span');\n",
              "  element.textContent = text;\n",
              "  for (const key of Object.keys(styleAttributes)) {\n",
              "    element.style[key] = styleAttributes[key];\n",
              "  }\n",
              "  return element;\n",
              "}\n",
              "\n",
              "// Max number of bytes which will be uploaded at a time.\n",
              "const MAX_PAYLOAD_SIZE = 100 * 1024;\n",
              "\n",
              "function _uploadFiles(inputId, outputId) {\n",
              "  const steps = uploadFilesStep(inputId, outputId);\n",
              "  const outputElement = document.getElementById(outputId);\n",
              "  // Cache steps on the outputElement to make it available for the next call\n",
              "  // to uploadFilesContinue from Python.\n",
              "  outputElement.steps = steps;\n",
              "\n",
              "  return _uploadFilesContinue(outputId);\n",
              "}\n",
              "\n",
              "// This is roughly an async generator (not supported in the browser yet),\n",
              "// where there are multiple asynchronous steps and the Python side is going\n",
              "// to poll for completion of each step.\n",
              "// This uses a Promise to block the python side on completion of each step,\n",
              "// then passes the result of the previous step as the input to the next step.\n",
              "function _uploadFilesContinue(outputId) {\n",
              "  const outputElement = document.getElementById(outputId);\n",
              "  const steps = outputElement.steps;\n",
              "\n",
              "  const next = steps.next(outputElement.lastPromiseValue);\n",
              "  return Promise.resolve(next.value.promise).then((value) => {\n",
              "    // Cache the last promise value to make it available to the next\n",
              "    // step of the generator.\n",
              "    outputElement.lastPromiseValue = value;\n",
              "    return next.value.response;\n",
              "  });\n",
              "}\n",
              "\n",
              "/**\n",
              " * Generator function which is called between each async step of the upload\n",
              " * process.\n",
              " * @param {string} inputId Element ID of the input file picker element.\n",
              " * @param {string} outputId Element ID of the output display.\n",
              " * @return {!Iterable<!Object>} Iterable of next steps.\n",
              " */\n",
              "function* uploadFilesStep(inputId, outputId) {\n",
              "  const inputElement = document.getElementById(inputId);\n",
              "  inputElement.disabled = false;\n",
              "\n",
              "  const outputElement = document.getElementById(outputId);\n",
              "  outputElement.innerHTML = '';\n",
              "\n",
              "  const pickedPromise = new Promise((resolve) => {\n",
              "    inputElement.addEventListener('change', (e) => {\n",
              "      resolve(e.target.files);\n",
              "    });\n",
              "  });\n",
              "\n",
              "  const cancel = document.createElement('button');\n",
              "  inputElement.parentElement.appendChild(cancel);\n",
              "  cancel.textContent = 'Cancel upload';\n",
              "  const cancelPromise = new Promise((resolve) => {\n",
              "    cancel.onclick = () => {\n",
              "      resolve(null);\n",
              "    };\n",
              "  });\n",
              "\n",
              "  // Wait for the user to pick the files.\n",
              "  const files = yield {\n",
              "    promise: Promise.race([pickedPromise, cancelPromise]),\n",
              "    response: {\n",
              "      action: 'starting',\n",
              "    }\n",
              "  };\n",
              "\n",
              "  cancel.remove();\n",
              "\n",
              "  // Disable the input element since further picks are not allowed.\n",
              "  inputElement.disabled = true;\n",
              "\n",
              "  if (!files) {\n",
              "    return {\n",
              "      response: {\n",
              "        action: 'complete',\n",
              "      }\n",
              "    };\n",
              "  }\n",
              "\n",
              "  for (const file of files) {\n",
              "    const li = document.createElement('li');\n",
              "    li.append(span(file.name, {fontWeight: 'bold'}));\n",
              "    li.append(span(\n",
              "        `(${file.type || 'n/a'}) - ${file.size} bytes, ` +\n",
              "        `last modified: ${\n",
              "            file.lastModifiedDate ? file.lastModifiedDate.toLocaleDateString() :\n",
              "                                    'n/a'} - `));\n",
              "    const percent = span('0% done');\n",
              "    li.appendChild(percent);\n",
              "\n",
              "    outputElement.appendChild(li);\n",
              "\n",
              "    const fileDataPromise = new Promise((resolve) => {\n",
              "      const reader = new FileReader();\n",
              "      reader.onload = (e) => {\n",
              "        resolve(e.target.result);\n",
              "      };\n",
              "      reader.readAsArrayBuffer(file);\n",
              "    });\n",
              "    // Wait for the data to be ready.\n",
              "    let fileData = yield {\n",
              "      promise: fileDataPromise,\n",
              "      response: {\n",
              "        action: 'continue',\n",
              "      }\n",
              "    };\n",
              "\n",
              "    // Use a chunked sending to avoid message size limits. See b/62115660.\n",
              "    let position = 0;\n",
              "    do {\n",
              "      const length = Math.min(fileData.byteLength - position, MAX_PAYLOAD_SIZE);\n",
              "      const chunk = new Uint8Array(fileData, position, length);\n",
              "      position += length;\n",
              "\n",
              "      const base64 = btoa(String.fromCharCode.apply(null, chunk));\n",
              "      yield {\n",
              "        response: {\n",
              "          action: 'append',\n",
              "          file: file.name,\n",
              "          data: base64,\n",
              "        },\n",
              "      };\n",
              "\n",
              "      let percentDone = fileData.byteLength === 0 ?\n",
              "          100 :\n",
              "          Math.round((position / fileData.byteLength) * 100);\n",
              "      percent.textContent = `${percentDone}% done`;\n",
              "\n",
              "    } while (position < fileData.byteLength);\n",
              "  }\n",
              "\n",
              "  // All done.\n",
              "  yield {\n",
              "    response: {\n",
              "      action: 'complete',\n",
              "    }\n",
              "  };\n",
              "}\n",
              "\n",
              "scope.google = scope.google || {};\n",
              "scope.google.colab = scope.google.colab || {};\n",
              "scope.google.colab._files = {\n",
              "  _uploadFiles,\n",
              "  _uploadFilesContinue,\n",
              "};\n",
              "})(self);\n",
              "</script> "
            ]
          },
          "metadata": {}
        },
        {
          "output_type": "stream",
          "name": "stdout",
          "text": [
            "Saving Gold.csv to Gold (1).csv\n"
          ]
        },
        {
          "output_type": "execute_result",
          "data": {
            "text/plain": [
              "0    1316.500\n",
              "1    1318.875\n",
              "2    1327.875\n",
              "3    1319.590\n",
              "4    1320.980\n",
              "Name: Close, dtype: float64"
            ]
          },
          "metadata": {},
          "execution_count": 3
        }
      ]
    },
    {
      "cell_type": "code",
      "execution_count": null,
      "id": "9954671e-f52f-40b5-a3ae-f9ded93f554d",
      "metadata": {
        "id": "9954671e-f52f-40b5-a3ae-f9ded93f554d",
        "outputId": "8d2a0b9c-cbad-4c74-872e-928e42a17b35"
      },
      "outputs": [
        {
          "data": {
            "text/plain": [
              "0       2179.120\n",
              "1       2172.300\n",
              "2       2165.990\n",
              "3       2165.400\n",
              "4       2165.400\n",
              "          ...   \n",
              "1689    1287.775\n",
              "1690    1286.710\n",
              "1691    1292.765\n",
              "1692    1292.765\n",
              "1693    1292.765\n",
              "Name: Close, Length: 1694, dtype: float64"
            ]
          },
          "execution_count": 2,
          "metadata": {},
          "output_type": "execute_result"
        }
      ],
      "source": [
        "# 2. Đọc file csv và gắn index\n",
        "# df = pd.read_csv('../Dataset/Gold.csv')\n",
        "# df = df.reset_index()['Close']\n",
        "# df"
      ]
    },
    {
      "cell_type": "code",
      "execution_count": 4,
      "id": "b024f4bd-4a87-41a0-87e7-c85fbbd6c3b5",
      "metadata": {
        "id": "b024f4bd-4a87-41a0-87e7-c85fbbd6c3b5"
      },
      "outputs": [],
      "source": [
        "# 3. Scaler data\n",
        "scaler = MinMaxScaler(feature_range=(0,1))\n",
        "df1 = scaler.fit_transform(np.array(df).reshape(-1,1))"
      ]
    },
    {
      "cell_type": "code",
      "execution_count": 5,
      "id": "b8f9d8c7-705b-4083-a6a7-1ded85d4de01",
      "metadata": {
        "id": "b8f9d8c7-705b-4083-a6a7-1ded85d4de01"
      },
      "outputs": [],
      "source": [
        "# 4. Chia train test\n",
        "train_size = int(0.6 * len(df1))\n",
        "test_size = len(df1) - train_size\n",
        "\n",
        "train_data = df1[:train_size]\n",
        "test_data = df1[train_size:]"
      ]
    },
    {
      "cell_type": "code",
      "execution_count": 6,
      "id": "ae3d71d8-cf7b-4317-a129-64543c70692e",
      "metadata": {
        "id": "ae3d71d8-cf7b-4317-a129-64543c70692e"
      },
      "outputs": [],
      "source": [
        "# 5. Hàm Create Dataset\n",
        "import numpy\n",
        "# convert an array of values into a dataset matrix\n",
        "def create_dataset(dataset, time_step=1):\n",
        "\tdataX, dataY = [], []\n",
        "\tfor i in range(len(dataset)-time_step-1):\n",
        "\t\ta = dataset[i:(i+time_step), 0]   ###i=0, X=0,1,2,3-----99   Y=100\n",
        "\t\tdataX.append(a)\n",
        "\t\tdataY.append(dataset[i + time_step, 0])\n",
        "\treturn numpy.array(dataX), numpy.array(dataY)"
      ]
    },
    {
      "cell_type": "code",
      "execution_count": 7,
      "id": "efad45b3-c807-4b99-a60b-0534aae36569",
      "metadata": {
        "id": "efad45b3-c807-4b99-a60b-0534aae36569"
      },
      "outputs": [],
      "source": [
        "#6. Reshape into X=t,t+1,t+2..t+99 and Y=t+100\n",
        "time_step = 100\n",
        "X_train, y_train = create_dataset(train_data, time_step)\n",
        "X_test, y_test = create_dataset(test_data, time_step)"
      ]
    },
    {
      "cell_type": "code",
      "execution_count": 8,
      "id": "58904da8-79e5-4302-87ed-f283a05247e2",
      "metadata": {
        "id": "58904da8-79e5-4302-87ed-f283a05247e2"
      },
      "outputs": [],
      "source": [
        "# 7. Reshape input to be [samples, time steps, features] which is required for LSTM\n",
        "X_train = X_train.reshape(X_train.shape[0],X_train.shape[1] , 1)\n",
        "X_test = X_test.reshape(X_test.shape[0],X_test.shape[1] , 1)"
      ]
    },
    {
      "cell_type": "code",
      "execution_count": 9,
      "id": "368d8b2c-2ce3-4493-82c2-d662187d86fa",
      "metadata": {
        "id": "368d8b2c-2ce3-4493-82c2-d662187d86fa"
      },
      "outputs": [],
      "source": [
        "# 8. Define LSTM Model\n",
        "model = Sequential()\n",
        "model.add(LSTM(50, return_sequences=True, input_shape=(100,1)))\n",
        "model.add(LSTM(50, return_sequences=True))\n",
        "model.add(LSTM(50))\n",
        "model.add(Dense(1))\n",
        "model.compile(loss='mean_squared_error', optimizer='adam')"
      ]
    },
    {
      "cell_type": "code",
      "execution_count": 10,
      "id": "4bd08089-4f85-4d64-a6d2-370f5a05e404",
      "metadata": {
        "colab": {
          "base_uri": "https://localhost:8080/"
        },
        "id": "4bd08089-4f85-4d64-a6d2-370f5a05e404",
        "outputId": "436bf4bc-eef8-438d-d116-12642c4c6928"
      },
      "outputs": [
        {
          "output_type": "stream",
          "name": "stdout",
          "text": [
            "Epoch 1/100\n",
            "19/19 [==============================] - 18s 440ms/step - loss: 0.0318 - val_loss: 0.0178\n",
            "Epoch 2/100\n",
            "19/19 [==============================] - 4s 190ms/step - loss: 0.0042 - val_loss: 0.0015\n",
            "Epoch 3/100\n",
            "19/19 [==============================] - 4s 189ms/step - loss: 0.0013 - val_loss: 0.0013\n",
            "Epoch 4/100\n",
            "19/19 [==============================] - 5s 251ms/step - loss: 8.9893e-04 - val_loss: 0.0019\n",
            "Epoch 5/100\n",
            "19/19 [==============================] - 4s 208ms/step - loss: 8.5239e-04 - val_loss: 0.0015\n",
            "Epoch 6/100\n",
            "19/19 [==============================] - 4s 191ms/step - loss: 8.3633e-04 - val_loss: 0.0017\n",
            "Epoch 7/100\n",
            "19/19 [==============================] - 4s 196ms/step - loss: 8.0276e-04 - val_loss: 0.0018\n",
            "Epoch 8/100\n",
            "19/19 [==============================] - 5s 252ms/step - loss: 8.0363e-04 - val_loss: 0.0015\n",
            "Epoch 9/100\n",
            "19/19 [==============================] - 4s 194ms/step - loss: 7.8793e-04 - val_loss: 0.0017\n",
            "Epoch 10/100\n",
            "19/19 [==============================] - 4s 220ms/step - loss: 7.7127e-04 - val_loss: 0.0017\n",
            "Epoch 11/100\n",
            "19/19 [==============================] - 5s 277ms/step - loss: 7.3636e-04 - val_loss: 0.0015\n",
            "Epoch 12/100\n",
            "19/19 [==============================] - 4s 193ms/step - loss: 7.3359e-04 - val_loss: 0.0022\n",
            "Epoch 13/100\n",
            "19/19 [==============================] - 4s 193ms/step - loss: 7.1760e-04 - val_loss: 0.0016\n",
            "Epoch 14/100\n",
            "19/19 [==============================] - 5s 267ms/step - loss: 7.0922e-04 - val_loss: 0.0018\n",
            "Epoch 15/100\n",
            "19/19 [==============================] - 4s 192ms/step - loss: 6.7373e-04 - val_loss: 0.0016\n",
            "Epoch 16/100\n",
            "19/19 [==============================] - 4s 190ms/step - loss: 6.7017e-04 - val_loss: 0.0013\n",
            "Epoch 17/100\n",
            "19/19 [==============================] - 4s 235ms/step - loss: 6.5389e-04 - val_loss: 0.0019\n",
            "Epoch 18/100\n",
            "19/19 [==============================] - 4s 229ms/step - loss: 6.4218e-04 - val_loss: 0.0013\n",
            "Epoch 19/100\n",
            "19/19 [==============================] - 4s 191ms/step - loss: 6.4494e-04 - val_loss: 0.0015\n",
            "Epoch 20/100\n",
            "19/19 [==============================] - 4s 192ms/step - loss: 6.1184e-04 - val_loss: 0.0025\n",
            "Epoch 21/100\n",
            "19/19 [==============================] - 5s 274ms/step - loss: 6.3786e-04 - val_loss: 0.0013\n",
            "Epoch 22/100\n",
            "19/19 [==============================] - 4s 193ms/step - loss: 5.8556e-04 - val_loss: 0.0012\n",
            "Epoch 23/100\n",
            "19/19 [==============================] - 5s 262ms/step - loss: 5.8615e-04 - val_loss: 0.0021\n",
            "Epoch 24/100\n",
            "19/19 [==============================] - 5s 270ms/step - loss: 5.8048e-04 - val_loss: 0.0011\n",
            "Epoch 25/100\n",
            "19/19 [==============================] - 4s 191ms/step - loss: 5.5200e-04 - val_loss: 0.0011\n",
            "Epoch 26/100\n",
            "19/19 [==============================] - 4s 195ms/step - loss: 5.7365e-04 - val_loss: 0.0017\n",
            "Epoch 27/100\n",
            "19/19 [==============================] - 6s 309ms/step - loss: 5.9990e-04 - val_loss: 0.0012\n",
            "Epoch 28/100\n",
            "19/19 [==============================] - 4s 220ms/step - loss: 6.1428e-04 - val_loss: 0.0023\n",
            "Epoch 29/100\n",
            "19/19 [==============================] - 4s 192ms/step - loss: 5.8515e-04 - val_loss: 9.5208e-04\n",
            "Epoch 30/100\n",
            "19/19 [==============================] - 4s 239ms/step - loss: 6.0195e-04 - val_loss: 0.0024\n",
            "Epoch 31/100\n",
            "19/19 [==============================] - 4s 215ms/step - loss: 6.2094e-04 - val_loss: 9.2827e-04\n",
            "Epoch 32/100\n",
            "19/19 [==============================] - 4s 190ms/step - loss: 5.7272e-04 - val_loss: 0.0020\n",
            "Epoch 33/100\n",
            "19/19 [==============================] - 4s 226ms/step - loss: 5.0963e-04 - val_loss: 8.6946e-04\n",
            "Epoch 34/100\n",
            "19/19 [==============================] - 5s 249ms/step - loss: 5.0781e-04 - val_loss: 0.0012\n",
            "Epoch 35/100\n",
            "19/19 [==============================] - 4s 192ms/step - loss: 4.7601e-04 - val_loss: 9.0880e-04\n",
            "Epoch 36/100\n",
            "19/19 [==============================] - 4s 191ms/step - loss: 4.8737e-04 - val_loss: 0.0016\n",
            "Epoch 37/100\n",
            "19/19 [==============================] - 5s 276ms/step - loss: 5.1610e-04 - val_loss: 7.6812e-04\n",
            "Epoch 38/100\n",
            "19/19 [==============================] - 4s 191ms/step - loss: 5.0074e-04 - val_loss: 0.0010\n",
            "Epoch 39/100\n",
            "19/19 [==============================] - 4s 190ms/step - loss: 5.1250e-04 - val_loss: 0.0011\n",
            "Epoch 40/100\n",
            "19/19 [==============================] - 5s 248ms/step - loss: 4.5562e-04 - val_loss: 0.0011\n",
            "Epoch 41/100\n",
            "19/19 [==============================] - 4s 218ms/step - loss: 4.5086e-04 - val_loss: 0.0011\n",
            "Epoch 42/100\n",
            "19/19 [==============================] - 4s 193ms/step - loss: 4.7355e-04 - val_loss: 8.7007e-04\n",
            "Epoch 43/100\n",
            "19/19 [==============================] - 4s 227ms/step - loss: 4.7338e-04 - val_loss: 8.5790e-04\n",
            "Epoch 44/100\n",
            "19/19 [==============================] - 5s 246ms/step - loss: 4.5638e-04 - val_loss: 6.7576e-04\n",
            "Epoch 45/100\n",
            "19/19 [==============================] - 4s 191ms/step - loss: 5.3180e-04 - val_loss: 0.0015\n",
            "Epoch 46/100\n",
            "19/19 [==============================] - 4s 191ms/step - loss: 4.3834e-04 - val_loss: 0.0010\n",
            "Epoch 47/100\n",
            "19/19 [==============================] - 6s 308ms/step - loss: 4.4643e-04 - val_loss: 6.2133e-04\n",
            "Epoch 48/100\n",
            "19/19 [==============================] - 4s 190ms/step - loss: 4.4050e-04 - val_loss: 0.0012\n",
            "Epoch 49/100\n",
            "19/19 [==============================] - 4s 191ms/step - loss: 4.8943e-04 - val_loss: 7.4830e-04\n",
            "Epoch 50/100\n",
            "19/19 [==============================] - 5s 265ms/step - loss: 5.3842e-04 - val_loss: 6.7843e-04\n",
            "Epoch 51/100\n",
            "19/19 [==============================] - 4s 193ms/step - loss: 4.6771e-04 - val_loss: 7.3271e-04\n",
            "Epoch 52/100\n",
            "19/19 [==============================] - 4s 196ms/step - loss: 4.0669e-04 - val_loss: 0.0011\n",
            "Epoch 53/100\n",
            "19/19 [==============================] - 5s 253ms/step - loss: 4.2610e-04 - val_loss: 0.0012\n",
            "Epoch 54/100\n",
            "19/19 [==============================] - 4s 223ms/step - loss: 4.0453e-04 - val_loss: 5.9373e-04\n",
            "Epoch 55/100\n",
            "19/19 [==============================] - 4s 193ms/step - loss: 4.4789e-04 - val_loss: 6.3441e-04\n",
            "Epoch 56/100\n",
            "19/19 [==============================] - 4s 192ms/step - loss: 5.1240e-04 - val_loss: 0.0022\n",
            "Epoch 57/100\n",
            "19/19 [==============================] - 5s 270ms/step - loss: 4.6162e-04 - val_loss: 5.6299e-04\n",
            "Epoch 58/100\n",
            "19/19 [==============================] - 4s 193ms/step - loss: 4.0656e-04 - val_loss: 0.0018\n",
            "Epoch 59/100\n",
            "19/19 [==============================] - 4s 195ms/step - loss: 4.8351e-04 - val_loss: 5.1493e-04\n",
            "Epoch 60/100\n",
            "19/19 [==============================] - 6s 347ms/step - loss: 3.9027e-04 - val_loss: 5.7817e-04\n",
            "Epoch 61/100\n",
            "19/19 [==============================] - 4s 210ms/step - loss: 3.9205e-04 - val_loss: 5.0399e-04\n",
            "Epoch 62/100\n",
            "19/19 [==============================] - 4s 198ms/step - loss: 4.0217e-04 - val_loss: 8.0994e-04\n",
            "Epoch 63/100\n",
            "19/19 [==============================] - 4s 234ms/step - loss: 3.7653e-04 - val_loss: 0.0013\n",
            "Epoch 64/100\n",
            "19/19 [==============================] - 5s 244ms/step - loss: 4.0600e-04 - val_loss: 4.5515e-04\n",
            "Epoch 65/100\n",
            "19/19 [==============================] - 4s 198ms/step - loss: 3.6633e-04 - val_loss: 8.6073e-04\n",
            "Epoch 66/100\n",
            "19/19 [==============================] - 4s 194ms/step - loss: 3.7799e-04 - val_loss: 5.6317e-04\n",
            "Epoch 67/100\n",
            "19/19 [==============================] - 5s 277ms/step - loss: 3.6560e-04 - val_loss: 4.7683e-04\n",
            "Epoch 68/100\n",
            "19/19 [==============================] - 4s 195ms/step - loss: 3.5870e-04 - val_loss: 0.0011\n",
            "Epoch 69/100\n",
            "19/19 [==============================] - 4s 236ms/step - loss: 3.6918e-04 - val_loss: 4.6076e-04\n",
            "Epoch 70/100\n",
            "19/19 [==============================] - 6s 295ms/step - loss: 3.7087e-04 - val_loss: 9.0468e-04\n",
            "Epoch 71/100\n",
            "19/19 [==============================] - 4s 193ms/step - loss: 3.5788e-04 - val_loss: 5.1425e-04\n",
            "Epoch 72/100\n",
            "19/19 [==============================] - 4s 194ms/step - loss: 3.3173e-04 - val_loss: 4.3650e-04\n",
            "Epoch 73/100\n",
            "19/19 [==============================] - 5s 252ms/step - loss: 3.2847e-04 - val_loss: 5.3634e-04\n",
            "Epoch 74/100\n",
            "19/19 [==============================] - 5s 251ms/step - loss: 3.3786e-04 - val_loss: 4.6980e-04\n",
            "Epoch 75/100\n",
            "19/19 [==============================] - 9s 457ms/step - loss: 3.2372e-04 - val_loss: 5.0486e-04\n",
            "Epoch 76/100\n",
            "19/19 [==============================] - 4s 200ms/step - loss: 3.1133e-04 - val_loss: 9.2473e-04\n",
            "Epoch 77/100\n",
            "19/19 [==============================] - 4s 193ms/step - loss: 3.2590e-04 - val_loss: 8.0517e-04\n",
            "Epoch 78/100\n",
            "19/19 [==============================] - 4s 228ms/step - loss: 3.1548e-04 - val_loss: 5.3051e-04\n",
            "Epoch 79/100\n",
            "19/19 [==============================] - 5s 272ms/step - loss: 3.1999e-04 - val_loss: 6.9004e-04\n",
            "Epoch 80/100\n",
            "19/19 [==============================] - 4s 233ms/step - loss: 3.2372e-04 - val_loss: 0.0013\n",
            "Epoch 81/100\n",
            "19/19 [==============================] - 5s 255ms/step - loss: 3.4719e-04 - val_loss: 3.8070e-04\n",
            "Epoch 82/100\n",
            "19/19 [==============================] - 4s 220ms/step - loss: 2.8749e-04 - val_loss: 7.6669e-04\n",
            "Epoch 83/100\n",
            "19/19 [==============================] - 4s 214ms/step - loss: 2.9283e-04 - val_loss: 3.5174e-04\n",
            "Epoch 84/100\n",
            "19/19 [==============================] - 4s 235ms/step - loss: 2.9628e-04 - val_loss: 3.6779e-04\n",
            "Epoch 85/100\n",
            "19/19 [==============================] - 4s 234ms/step - loss: 2.7821e-04 - val_loss: 3.3470e-04\n",
            "Epoch 86/100\n",
            "19/19 [==============================] - 4s 191ms/step - loss: 2.9465e-04 - val_loss: 3.3569e-04\n",
            "Epoch 87/100\n",
            "19/19 [==============================] - 4s 192ms/step - loss: 2.9343e-04 - val_loss: 9.2773e-04\n",
            "Epoch 88/100\n",
            "19/19 [==============================] - 6s 320ms/step - loss: 2.9665e-04 - val_loss: 0.0011\n",
            "Epoch 89/100\n",
            "19/19 [==============================] - 6s 290ms/step - loss: 2.7753e-04 - val_loss: 7.8760e-04\n",
            "Epoch 90/100\n",
            "19/19 [==============================] - 4s 224ms/step - loss: 2.6576e-04 - val_loss: 6.8666e-04\n",
            "Epoch 91/100\n",
            "19/19 [==============================] - 5s 236ms/step - loss: 2.6837e-04 - val_loss: 3.4549e-04\n",
            "Epoch 92/100\n",
            "19/19 [==============================] - 4s 194ms/step - loss: 2.6807e-04 - val_loss: 3.7797e-04\n",
            "Epoch 93/100\n",
            "19/19 [==============================] - 4s 198ms/step - loss: 2.5272e-04 - val_loss: 4.0348e-04\n",
            "Epoch 94/100\n",
            "19/19 [==============================] - 5s 282ms/step - loss: 2.3810e-04 - val_loss: 3.5021e-04\n",
            "Epoch 95/100\n",
            "19/19 [==============================] - 4s 193ms/step - loss: 2.9326e-04 - val_loss: 7.8913e-04\n",
            "Epoch 96/100\n",
            "19/19 [==============================] - 4s 192ms/step - loss: 3.6981e-04 - val_loss: 3.6546e-04\n",
            "Epoch 97/100\n",
            "19/19 [==============================] - 5s 256ms/step - loss: 2.7498e-04 - val_loss: 3.1455e-04\n",
            "Epoch 98/100\n",
            "19/19 [==============================] - 4s 208ms/step - loss: 2.5471e-04 - val_loss: 3.2417e-04\n",
            "Epoch 99/100\n",
            "19/19 [==============================] - 4s 193ms/step - loss: 2.2698e-04 - val_loss: 4.0147e-04\n",
            "Epoch 100/100\n",
            "19/19 [==============================] - 4s 199ms/step - loss: 2.2047e-04 - val_loss: 3.2835e-04\n"
          ]
        },
        {
          "output_type": "execute_result",
          "data": {
            "text/plain": [
              "<keras.src.callbacks.History at 0x7a2a76ed4d90>"
            ]
          },
          "metadata": {},
          "execution_count": 10
        }
      ],
      "source": [
        "# 9. Fit mô hình với dữ liệu train\n",
        "model.fit(X_train, y_train, validation_data = (X_test, y_test), epochs = 100, batch_size=64, verbose=1)"
      ]
    },
    {
      "cell_type": "code",
      "execution_count": 11,
      "id": "da655250-0c55-41b3-a8a9-ee8470f5bd5b",
      "metadata": {
        "colab": {
          "base_uri": "https://localhost:8080/"
        },
        "id": "da655250-0c55-41b3-a8a9-ee8470f5bd5b",
        "outputId": "cc4522de-0b9b-45b5-a58c-a22b5b60bf52"
      },
      "outputs": [
        {
          "output_type": "stream",
          "name": "stdout",
          "text": [
            "24/24 [==============================] - 3s 61ms/step\n"
          ]
        }
      ],
      "source": [
        "# 10. Dự báo dữ liệu test\n",
        "y_pred = model.predict(X_test)"
      ]
    },
    {
      "cell_type": "code",
      "execution_count": 12,
      "id": "e08da3b5-433f-4f2b-880c-c2c7d20fc3fd",
      "metadata": {
        "id": "e08da3b5-433f-4f2b-880c-c2c7d20fc3fd"
      },
      "outputs": [],
      "source": [
        "# 11. Chuẩn hóa dữ liệu y_pred, y_pred_val\n",
        "y_pred = scaler.inverse_transform(y_pred)"
      ]
    },
    {
      "cell_type": "code",
      "execution_count": 13,
      "id": "eba3e17b-45b3-4e78-8c01-cf91805cfe40",
      "metadata": {
        "id": "eba3e17b-45b3-4e78-8c01-cf91805cfe40"
      },
      "outputs": [],
      "source": [
        "train_size1 = int(0.6 * len(df))\n",
        "test_size1 = len(df) - train_size\n",
        "\n",
        "train_data1 = df[:train_size]\n",
        "test_data1 = df[train_size:]\n",
        "\n",
        "x_test1 = np.array(test_data1.index).reshape(-1, 1)\n",
        "y_test1 = np.array(test_data1)"
      ]
    },
    {
      "cell_type": "code",
      "execution_count": 14,
      "id": "b9c942b4-c18d-4c4a-bb59-bfe48e765a49",
      "metadata": {
        "colab": {
          "base_uri": "https://localhost:8080/"
        },
        "id": "b9c942b4-c18d-4c4a-bb59-bfe48e765a49",
        "outputId": "43df36ea-e4b4-4827-cabe-eff6d1234312"
      },
      "outputs": [
        {
          "output_type": "stream",
          "name": "stdout",
          "text": [
            "Testing MSE: 696.6367058659959\n",
            "Testing RMSE: 26.393876294814973\n",
            "Testing MAPE: 0.011161196132189037\n"
          ]
        }
      ],
      "source": [
        "# 12. Đánh giá độ chính xác thuật toán\n",
        "# Tính MSE - Mean Squared Error - Sai số bình phương trung bình\n",
        "test_mse = mean_squared_error(y_test1[time_step + 1:], y_pred)\n",
        "print('Testing MSE:', test_mse)\n",
        "\n",
        "# Tính RMSE - Root Mean Squared Error - Sai số bình phương trung bình\n",
        "test_rmse = math.sqrt(test_mse)\n",
        "print('Testing RMSE:', test_rmse)\n",
        "\n",
        "# Tính MAPE - Mean Absolute Percentage Error - Tỷ lệ phần trăm sai số tuyệt đối trung bình\n",
        "test_mape = mean_absolute_percentage_error(y_test1[time_step + 1:], y_pred)\n",
        "print('Testing MAPE:', test_mape)"
      ]
    },
    {
      "cell_type": "code",
      "execution_count": 15,
      "id": "7aa5e51e-303d-4c5c-812a-51db8ed4b55d",
      "metadata": {
        "id": "7aa5e51e-303d-4c5c-812a-51db8ed4b55d"
      },
      "outputs": [],
      "source": [
        "# 13. Tạo hàm dự báo\n",
        "def predict(n_steps, temp_input_1, x_input_1, model, day_predict):\n",
        "    lst_output = []\n",
        "    temp_input = temp_input_1.copy()\n",
        "    x_input = x_input_1.copy()\n",
        "    i = 0\n",
        "\n",
        "    while(i < day_predict):\n",
        "        if(len(temp_input) > n_steps):\n",
        "            x_input=np.array(temp_input[1:])\n",
        "            x_input=x_input.reshape(1,-1)\n",
        "            x_input = x_input.reshape((1, n_steps, 1))\n",
        "            yhat = model.predict(x_input, verbose=0)\n",
        "            temp_input.extend(yhat[0].tolist())\n",
        "            temp_input=temp_input[1:]\n",
        "            lst_output.extend(yhat.tolist())\n",
        "            i=i+1\n",
        "        else:\n",
        "            x_input = x_input.reshape((1, n_steps,1))\n",
        "            yhat = model.predict(x_input, verbose=0)\n",
        "            temp_input.extend(yhat[0].tolist())\n",
        "            lst_output.extend(yhat.tolist())\n",
        "            i=i+1\n",
        "    return lst_output"
      ]
    },
    {
      "cell_type": "code",
      "execution_count": 16,
      "id": "ed2e55b4-7626-4fbe-84b8-bbc9cefed4f5",
      "metadata": {
        "id": "ed2e55b4-7626-4fbe-84b8-bbc9cefed4f5"
      },
      "outputs": [],
      "source": [
        "# Dự đoán 30, 60, 90 ngày tiếp theo\n",
        "n_steps = 100\n",
        "x_input = test_data[len(test_data) - n_steps:].reshape(1,-1)\n",
        "temp_input = list(x_input)\n",
        "temp_input = temp_input[0].tolist()\n",
        "\n",
        "lst_output_30 = predict(n_steps, temp_input, x_input, model, 30)\n",
        "lst_output_60 = predict(n_steps, temp_input, x_input, model, 60)\n",
        "lst_output_90 = predict(n_steps, temp_input, x_input, model, 90)"
      ]
    },
    {
      "cell_type": "code",
      "execution_count": 17,
      "id": "8e616b37-d726-4cbb-8597-2cc24b01be70",
      "metadata": {
        "colab": {
          "base_uri": "https://localhost:8080/",
          "height": 398
        },
        "id": "8e616b37-d726-4cbb-8597-2cc24b01be70",
        "outputId": "f5b99f05-307a-430c-fcfb-c462dc47d881"
      },
      "outputs": [
        {
          "output_type": "display_data",
          "data": {
            "text/plain": [
              "<Figure size 2000x800 with 1 Axes>"
            ],
            "image/png": "[encoded data removed]"
          },
          "metadata": {}
        },
        {
          "output_type": "display_data",
          "data": {
            "text/plain": [
              "<Figure size 1600x900 with 0 Axes>"
            ]
          },
          "metadata": {}
        }
      ],
      "source": [
        "# 14.Vẽ hình\n",
        "train_data_index = pd.RangeIndex(start=0, stop=train_size, step=1)\n",
        "plt.plot(scaler.inverse_transform(train_data))\n",
        "\n",
        "test_data_index = pd.RangeIndex(start=train_size, stop=train_size+test_size, step=1)\n",
        "plt.plot(test_data_index,scaler.inverse_transform(test_data))\n",
        "\n",
        "test_data_index = pd.RangeIndex(start=train_size+101, stop=train_size+test_size, step=1)\n",
        "plt.plot(test_data_index,(y_pred))\n",
        "\n",
        "prediect_data_index = pd.RangeIndex(start=len(df1)-1, stop=len(df1)+89, step=1)\n",
        "plt.plot(prediect_data_index,scaler.inverse_transform(lst_output_90))\n",
        "\n",
        "prediect_data_index = pd.RangeIndex(start=len(df1)-1, stop=len(df1)+59, step=1)\n",
        "plt.plot(prediect_data_index,scaler.inverse_transform(lst_output_60))\n",
        "\n",
        "prediect_data_index = pd.RangeIndex(start=len(df1)-1, stop=len(df1)+29, step=1)\n",
        "plt.plot(prediect_data_index,scaler.inverse_transform(lst_output_30))\n",
        "\n",
        "plt.legend(['Train','Test','Predict','Predict30days','Predict60days','Predict90days'])\n",
        "plt.figure(figsize=(16,9))\n",
        "plt.show()"
      ]
    },
    {
      "cell_type": "code",
      "execution_count": null,
      "id": "4676e58b-659c-410a-9322-bbf938dd14df",
      "metadata": {
        "id": "4676e58b-659c-410a-9322-bbf938dd14df"
      },
      "outputs": [],
      "source": []
    }
  ],
  "metadata": {
    "kernelspec": {
      "display_name": "Python 3 (ipykernel)",
      "language": "python",
      "name": "python3"
    },
    "language_info": {
      "codemirror_mode": {
        "name": "ipython",
        "version": 3
      },
      "file_extension": ".py",
      "mimetype": "text/x-python",
      "name": "python",
      "nbconvert_exporter": "python",
      "pygments_lexer": "ipython3",
      "version": "3.11.7"
    },
    "colab": {
      "provenance": []
    }
  },
  "nbformat": 4,
  "nbformat_minor": 5
}