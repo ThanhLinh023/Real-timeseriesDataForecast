{
 "cells": [
  {
   "cell_type": "code",
   "execution_count": 1,
   "id": "a9436936-6f0c-43d1-847c-1e1b7372a079",
   "metadata": {},
   "outputs": [],
   "source": [
    "import pandas as pd\n",
    "from prettytable import PrettyTable"
   ]
  },
  {
   "cell_type": "code",
   "execution_count": 2,
   "id": "e80f1dba-7c5b-4b22-aa65-509d4213d9dd",
   "metadata": {},
   "outputs": [
    {
     "name": "stdout",
     "output_type": "stream",
     "text": [
      "+-------------------------------+------------+---------+-------------+----------+\n",
      "|         Model-Dataset         | Train:Test |   MAPE  |     MSE     |   RMSE   |\n",
      "+-------------------------------+------------+---------+-------------+----------+\n",
      "|    Linear Regression-Gold:    |    6:4     |  14.854 |  91766.792  |  302.93  |\n",
      "|    Linear Regression-Gold:    |    7:3     |  10.83  |  49218.823  | 221.853  |\n",
      "|    Linear Regression-Gold:    |    8:2     |  4.807  |  13475.991  | 116.086  |\n",
      "| Linear Regression-Palladium:  |    6:4     | 135.996 | 3634899.031 | 1906.541 |\n",
      "| Linear Regression-Palladium:  |    7:3     | 131.756 |  2829033.5  | 1681.973 |\n",
      "| Linear Regression-Palladium:  |    8:2     | 129.977 | 2161469.521 | 1470.194 |\n",
      "|  Linear Regression-Platinum:  |    6:4     |  18.385 |  36189.592  | 190.236  |\n",
      "|  Linear Regression-Platinum:  |    7:3     |  14.111 |  21354.894  | 146.133  |\n",
      "|  Linear Regression-Platinum:  |    8:2     |  11.306 |   13523.58  | 116.291  |\n",
      "+-------------------------------+------------+---------+-------------+----------+\n"
     ]
    }
   ],
   "source": [
    "x = PrettyTable()\n",
    "x.field_names = [\"Model-Dataset\",\"Train:Test\",\"MAPE\",\"MSE\", \"RMSE\"]\n",
    "x.add_row([\"Linear Regression-Gold: \",'6:4', 14.854, 91766.792, 302.930])\n",
    "x.add_row([\"Linear Regression-Gold: \",'7:3', 10.830, 49218.823, 221.853])\n",
    "x.add_row([\"Linear Regression-Gold: \",'8:2', 4.807, 13475.991, 116.086])\n",
    "\n",
    "x.add_row([\"Linear Regression-Palladium: \",'6:4', 135.996, 3634899.031, 1906.541])\n",
    "x.add_row([\"Linear Regression-Palladium: \",'7:3', 131.756, 2829033.500, 1681.973])\n",
    "x.add_row([\"Linear Regression-Palladium: \",'8:2', 129.977, 2161469.521, 1470.194])\n",
    "\n",
    "x.add_row([\"Linear Regression-Platinum: \",'6:4', 18.385, 36189.592, 190.236])\n",
    "x.add_row([\"Linear Regression-Platinum: \",'7:3', 14.111, 21354.894, 146.133])\n",
    "x.add_row([\"Linear Regression-Platinum: \",'8:2', 11.306, 13523.580, 116.291])\n",
    "print(x)"
   ]
  },
  {
   "cell_type": "code",
   "execution_count": 4,
   "id": "fe779c43-d011-432f-92f3-c4ab6c3d4773",
   "metadata": {},
   "outputs": [
    {
     "name": "stdout",
     "output_type": "stream",
     "text": [
      "+-------------------------------+------------+---------+-------------+----------+\n",
      "|         Model-Dataset         | Train:Test |   MAPE  |     MSE     |   RMSE   |\n",
      "+-------------------------------+------------+---------+-------------+----------+\n",
      "|    Linear Regression-Gold:    |    8:2     |  4.807  |  13475.991  | 116.086  |\n",
      "| Linear Regression-Palladium:  |    8:2     | 129.977 | 2161469.521 | 1470.194 |\n",
      "|  Linear Regression-Platinum:  |    8:2     |  11.306 |   13523.58  | 116.291  |\n",
      "+-------------------------------+------------+---------+-------------+----------+\n"
     ]
    }
   ],
   "source": [
    "# Mô hình được chọn với từng dataset\n",
    "x = PrettyTable()\n",
    "x.field_names = [\"Model-Dataset\",\"Train:Test\",\"MAPE\",\"MSE\", \"RMSE\"]\n",
    "x.add_row([\"Linear Regression-Gold: \",'8:2', 4.807, 13475.991, 116.086])\n",
    "x.add_row([\"Linear Regression-Palladium: \",'8:2', 129.977, 2161469.521, 1470.194])\n",
    "x.add_row([\"Linear Regression-Platinum: \",'8:2', 11.306, 13523.580, 116.291])\n",
    "print(x)"
   ]
  },
  {
   "cell_type": "code",
   "execution_count": null,
   "id": "c82baa8a-715e-43df-961d-c34c16cfe57e",
   "metadata": {},
   "outputs": [],
   "source": []
  }
 ],
 "metadata": {
  "kernelspec": {
   "display_name": "Python 3 (ipykernel)",
   "language": "python",
   "name": "python3"
  },
  "language_info": {
   "codemirror_mode": {
    "name": "ipython",
    "version": 3
   },
   "file_extension": ".py",
   "mimetype": "text/x-python",
   "name": "python",
   "nbconvert_exporter": "python",
   "pygments_lexer": "ipython3",
   "version": "3.11.5"
  }
 },
 "nbformat": 4,
 "nbformat_minor": 5
}
