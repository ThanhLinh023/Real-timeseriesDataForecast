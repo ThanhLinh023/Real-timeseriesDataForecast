{
 "cells": [
  {
   "cell_type": "code",
   "execution_count": 1,
   "id": "a9436936-6f0c-43d1-847c-1e1b7372a079",
   "metadata": {},
   "outputs": [],
   "source": [
    "import pandas as pd\n",
    "from prettytable import PrettyTable"
   ]
  },
  {
   "cell_type": "code",
   "execution_count": 2,
   "id": "e80f1dba-7c5b-4b22-aa65-509d4213d9dd",
   "metadata": {},
   "outputs": [
    {
     "name": "stdout",
     "output_type": "stream",
     "text": [
      "+-----------------+------------+--------+-------------+----------+\n",
      "|  Model-Dataset  | Train:Test |  MAPE  |     MSE     |   RMSE   |\n",
      "+-----------------+------------+--------+-------------+----------+\n",
      "|    ETS-Gold:    |    6:4     |  4.88  |  17146.956  | 130.946  |\n",
      "|    ETS-Gold:    |    7:3     | 7.125  |  33615.616  | 183.346  |\n",
      "|    ETS-Gold:    |    8:2     | 4.192  |  12348.033  | 111.122  |\n",
      "| ETS-Palladium:  |    6:4     | 80.105 | 1314289.707 | 1146.425 |\n",
      "| ETS-Palladium:  |    7:3     | 52.076 |  464571.26  | 681.595  |\n",
      "| ETS-Palladium:  |    8:2     | 5.958  |   7594.965  |  87.149  |\n",
      "|  ETS-Platinum:  |    6:4     | 11.491 |  16998.684  | 130.379  |\n",
      "|  ETS-Platinum:  |    7:3     | 7.667  |   8615.626  |  92.82   |\n",
      "|  ETS-Platinum:  |    8:2     | 4.868  |   3151.107  |  56.135  |\n",
      "+-----------------+------------+--------+-------------+----------+\n"
     ]
    }
   ],
   "source": [
    "x = PrettyTable()\n",
    "x.field_names = [\"Model-Dataset\",\"Train:Test\",\"MAPE\",\"MSE\", \"RMSE\"]\n",
    "x.add_row([\"ETS-Gold: \",'6:4', 4.880, 17146.956, 130.946])\n",
    "x.add_row([\"ETS-Gold: \",'7:3', 7.125, 33615.616, 183.346])\n",
    "x.add_row([\"ETS-Gold: \",'8:2', 4.192, 12348.033, 111.122])\n",
    "\n",
    "x.add_row([\"ETS-Palladium: \",'6:4', 80.105, 1314289.707, 1146.425])\n",
    "x.add_row([\"ETS-Palladium: \",'7:3', 52.076, 464571.260, 681.595])\n",
    "x.add_row([\"ETS-Palladium: \",'8:2', 5.958, 7594.965, 87.149])\n",
    "\n",
    "x.add_row([\"ETS-Platinum: \",'6:4', 11.491, 16998.684, 130.379])\n",
    "x.add_row([\"ETS-Platinum: \",'7:3', 7.667, 8615.626, 92.820])\n",
    "x.add_row([\"ETS-Platinum: \",'8:2', 4.868, 3151.107, 56.135])\n",
    "print(x)"
   ]
  },
  {
   "cell_type": "code",
   "execution_count": 3,
   "id": "fe779c43-d011-432f-92f3-c4ab6c3d4773",
   "metadata": {},
   "outputs": [
    {
     "name": "stdout",
     "output_type": "stream",
     "text": [
      "+-----------------+------------+-------+-----------+---------+\n",
      "|  Model-Dataset  | Train:Test |  MAPE |    MSE    |   RMSE  |\n",
      "+-----------------+------------+-------+-----------+---------+\n",
      "|    ETS-Gold:    |    8:2     | 4.192 | 12348.033 | 111.122 |\n",
      "| ETS-Palladium:  |    8:2     | 5.958 |  7594.965 |  87.149 |\n",
      "|  ETS-Platinum:  |    8:2     | 4.868 |  3151.107 |  56.135 |\n",
      "+-----------------+------------+-------+-----------+---------+\n"
     ]
    }
   ],
   "source": [
    "# Mô hình được chọn với từng dataset\n",
    "x = PrettyTable()\n",
    "x.field_names = [\"Model-Dataset\",\"Train:Test\",\"MAPE\",\"MSE\", \"RMSE\"]\n",
    "x.add_row([\"ETS-Gold: \",'8:2', 4.192, 12348.033, 111.122])\n",
    "x.add_row([\"ETS-Palladium: \",'8:2', 5.958, 7594.965, 87.149])\n",
    "x.add_row([\"ETS-Platinum: \",'8:2', 4.868, 3151.107, 56.135])\n",
    "print(x)"
   ]
  },
  {
   "cell_type": "code",
   "execution_count": null,
   "id": "4e578c0a-c156-4dbd-988b-430e0de1f4cf",
   "metadata": {},
   "outputs": [],
   "source": []
  }
 ],
 "metadata": {
  "kernelspec": {
   "display_name": "Python 3 (ipykernel)",
   "language": "python",
   "name": "python3"
  },
  "language_info": {
   "codemirror_mode": {
    "name": "ipython",
    "version": 3
   },
   "file_extension": ".py",
   "mimetype": "text/x-python",
   "name": "python",
   "nbconvert_exporter": "python",
   "pygments_lexer": "ipython3",
   "version": "3.11.5"
  }
 },
 "nbformat": 4,
 "nbformat_minor": 5
}
